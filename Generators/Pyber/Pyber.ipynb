{
 "cells": [
  {
   "cell_type": "code",
   "execution_count": 52,
   "metadata": {},
   "outputs": [],
   "source": [
    "#! users/jjahn/dev/repos/matplot_challenges\n",
    "\n",
    "import pandas as pd\n",
    "from pandas import DataFrame, read_csv\n",
    "import numpy as np\n",
    "import matplotlib.pyplot as plt\n",
    "import pylab\n",
    "import scipy\n",
    "import os"
   ]
  },
  {
   "cell_type": "code",
   "execution_count": 6,
   "metadata": {},
   "outputs": [],
   "source": [
    "file1 = os.path.join('generated_data','city_data.csv')\n",
    "file2 = os.path.join('generated_data','ride_data.csv')\n",
    "\n",
    "cfile = pd.read_csv(file1)\n",
    "rfile = pd.read_csv(file2)"
   ]
  },
  {
   "cell_type": "code",
   "execution_count": 26,
   "metadata": {},
   "outputs": [
    {
     "data": {
      "text/html": [
       "<div>\n",
       "<style scoped>\n",
       "    .dataframe tbody tr th:only-of-type {\n",
       "        vertical-align: middle;\n",
       "    }\n",
       "\n",
       "    .dataframe tbody tr th {\n",
       "        vertical-align: top;\n",
       "    }\n",
       "\n",
       "    .dataframe thead th {\n",
       "        text-align: right;\n",
       "    }\n",
       "</style>\n",
       "<table border=\"1\" class=\"dataframe\">\n",
       "  <thead>\n",
       "    <tr style=\"text-align: right;\">\n",
       "      <th></th>\n",
       "      <th>city</th>\n",
       "      <th>driver_count</th>\n",
       "      <th>type</th>\n",
       "    </tr>\n",
       "  </thead>\n",
       "  <tbody>\n",
       "    <tr>\n",
       "      <th>0</th>\n",
       "      <td>Tammyburgh</td>\n",
       "      <td>11</td>\n",
       "      <td>Urban</td>\n",
       "    </tr>\n",
       "    <tr>\n",
       "      <th>1</th>\n",
       "      <td>Melissaborough</td>\n",
       "      <td>15</td>\n",
       "      <td>Urban</td>\n",
       "    </tr>\n",
       "    <tr>\n",
       "      <th>2</th>\n",
       "      <td>Port Brianborough</td>\n",
       "      <td>62</td>\n",
       "      <td>Urban</td>\n",
       "    </tr>\n",
       "    <tr>\n",
       "      <th>3</th>\n",
       "      <td>New Katherine</td>\n",
       "      <td>68</td>\n",
       "      <td>Urban</td>\n",
       "    </tr>\n",
       "    <tr>\n",
       "      <th>4</th>\n",
       "      <td>Lake Charlesside</td>\n",
       "      <td>65</td>\n",
       "      <td>Urban</td>\n",
       "    </tr>\n",
       "  </tbody>\n",
       "</table>\n",
       "</div>"
      ],
      "text/plain": [
       "                city  driver_count   type\n",
       "0         Tammyburgh            11  Urban\n",
       "1     Melissaborough            15  Urban\n",
       "2  Port Brianborough            62  Urban\n",
       "3      New Katherine            68  Urban\n",
       "4   Lake Charlesside            65  Urban"
      ]
     },
     "execution_count": 26,
     "metadata": {},
     "output_type": "execute_result"
    }
   ],
   "source": [
    "cfile.head()"
   ]
  },
  {
   "cell_type": "code",
   "execution_count": 70,
   "metadata": {},
   "outputs": [
    {
     "data": {
      "text/html": [
       "<div>\n",
       "<style scoped>\n",
       "    .dataframe tbody tr th:only-of-type {\n",
       "        vertical-align: middle;\n",
       "    }\n",
       "\n",
       "    .dataframe tbody tr th {\n",
       "        vertical-align: top;\n",
       "    }\n",
       "\n",
       "    .dataframe thead th {\n",
       "        text-align: right;\n",
       "    }\n",
       "</style>\n",
       "<table border=\"1\" class=\"dataframe\">\n",
       "  <thead>\n",
       "    <tr style=\"text-align: right;\">\n",
       "      <th></th>\n",
       "      <th>city</th>\n",
       "      <th>date</th>\n",
       "      <th>fare</th>\n",
       "      <th>ride_id</th>\n",
       "    </tr>\n",
       "  </thead>\n",
       "  <tbody>\n",
       "    <tr>\n",
       "      <th>0</th>\n",
       "      <td>Karenfurt</td>\n",
       "      <td>2017-01-01 19:03:03</td>\n",
       "      <td>32.90</td>\n",
       "      <td>3383346995405</td>\n",
       "    </tr>\n",
       "    <tr>\n",
       "      <th>1</th>\n",
       "      <td>Melissaborough</td>\n",
       "      <td>2017-01-01 08:55:58</td>\n",
       "      <td>19.59</td>\n",
       "      <td>2791839504576</td>\n",
       "    </tr>\n",
       "    <tr>\n",
       "      <th>2</th>\n",
       "      <td>Port Sandraport</td>\n",
       "      <td>2017-01-01 16:21:54</td>\n",
       "      <td>31.04</td>\n",
       "      <td>3341437383289</td>\n",
       "    </tr>\n",
       "    <tr>\n",
       "      <th>3</th>\n",
       "      <td>Curtismouth</td>\n",
       "      <td>2017-01-03 06:36:53</td>\n",
       "      <td>15.12</td>\n",
       "      <td>6557246300691</td>\n",
       "    </tr>\n",
       "    <tr>\n",
       "      <th>4</th>\n",
       "      <td>Port Michael</td>\n",
       "      <td>2017-01-03 09:56:52</td>\n",
       "      <td>19.65</td>\n",
       "      <td>9887635746234</td>\n",
       "    </tr>\n",
       "  </tbody>\n",
       "</table>\n",
       "</div>"
      ],
      "text/plain": [
       "              city                 date   fare        ride_id\n",
       "0        Karenfurt  2017-01-01 19:03:03  32.90  3383346995405\n",
       "1   Melissaborough  2017-01-01 08:55:58  19.59  2791839504576\n",
       "2  Port Sandraport  2017-01-01 16:21:54  31.04  3341437383289\n",
       "3      Curtismouth  2017-01-03 06:36:53  15.12  6557246300691\n",
       "4     Port Michael  2017-01-03 09:56:52  19.65  9887635746234"
      ]
     },
     "execution_count": 70,
     "metadata": {},
     "output_type": "execute_result"
    }
   ],
   "source": [
    "rfile.head()"
   ]
  },
  {
   "cell_type": "code",
   "execution_count": 72,
   "metadata": {},
   "outputs": [
    {
     "data": {
      "text/html": [
       "<div>\n",
       "<style scoped>\n",
       "    .dataframe tbody tr th:only-of-type {\n",
       "        vertical-align: middle;\n",
       "    }\n",
       "\n",
       "    .dataframe tbody tr th {\n",
       "        vertical-align: top;\n",
       "    }\n",
       "\n",
       "    .dataframe thead th {\n",
       "        text-align: right;\n",
       "    }\n",
       "</style>\n",
       "<table border=\"1\" class=\"dataframe\">\n",
       "  <thead>\n",
       "    <tr style=\"text-align: right;\">\n",
       "      <th></th>\n",
       "      <th>city</th>\n",
       "      <th>total fare</th>\n",
       "      <th>fare count</th>\n",
       "      <th>avg. fare</th>\n",
       "    </tr>\n",
       "  </thead>\n",
       "  <tbody>\n",
       "    <tr>\n",
       "      <th>0</th>\n",
       "      <td>Adamschester</td>\n",
       "      <td>266.35</td>\n",
       "      <td>9</td>\n",
       "      <td>29.594444</td>\n",
       "    </tr>\n",
       "    <tr>\n",
       "      <th>1</th>\n",
       "      <td>Alexisfort</td>\n",
       "      <td>903.11</td>\n",
       "      <td>33</td>\n",
       "      <td>27.366970</td>\n",
       "    </tr>\n",
       "    <tr>\n",
       "      <th>2</th>\n",
       "      <td>Amberberg</td>\n",
       "      <td>457.99</td>\n",
       "      <td>16</td>\n",
       "      <td>28.624375</td>\n",
       "    </tr>\n",
       "    <tr>\n",
       "      <th>3</th>\n",
       "      <td>Anthonyfurt</td>\n",
       "      <td>501.35</td>\n",
       "      <td>17</td>\n",
       "      <td>29.491176</td>\n",
       "    </tr>\n",
       "    <tr>\n",
       "      <th>4</th>\n",
       "      <td>Boyleberg</td>\n",
       "      <td>161.98</td>\n",
       "      <td>5</td>\n",
       "      <td>32.396000</td>\n",
       "    </tr>\n",
       "  </tbody>\n",
       "</table>\n",
       "</div>"
      ],
      "text/plain": [
       "           city  total fare  fare count  avg. fare\n",
       "0  Adamschester      266.35           9  29.594444\n",
       "1    Alexisfort      903.11          33  27.366970\n",
       "2     Amberberg      457.99          16  28.624375\n",
       "3   Anthonyfurt      501.35          17  29.491176\n",
       "4     Boyleberg      161.98           5  32.396000"
      ]
     },
     "execution_count": 72,
     "metadata": {},
     "output_type": "execute_result"
    }
   ],
   "source": [
    "# Average Fare ($) Per City\n",
    "# Total Number of Rides Per City\n",
    "# Total Number of Drivers Per City\n",
    "# City Type (Urban, Suburban, Rural)\n",
    "\n",
    "f_df = pd.DataFrame(rfile['fare'].groupby(rfile['city']).sum()).rename(columns={'fare':'total fare'})\n",
    "f_df['fare count'] = pd.DataFrame(rfile['fare'].groupby(rfile['city']).count())\n",
    "f_df['avg. fare'] = f_df['total fare'] / f_df['fare count']\n",
    "f_df = f_df.reset_index()\n",
    "f_df.head()"
   ]
  },
  {
   "cell_type": "code",
   "execution_count": 36,
   "metadata": {},
   "outputs": [
    {
     "data": {
      "text/html": [
       "<div>\n",
       "<style scoped>\n",
       "    .dataframe tbody tr th:only-of-type {\n",
       "        vertical-align: middle;\n",
       "    }\n",
       "\n",
       "    .dataframe tbody tr th {\n",
       "        vertical-align: top;\n",
       "    }\n",
       "\n",
       "    .dataframe thead th {\n",
       "        text-align: right;\n",
       "    }\n",
       "</style>\n",
       "<table border=\"1\" class=\"dataframe\">\n",
       "  <thead>\n",
       "    <tr style=\"text-align: right;\">\n",
       "      <th></th>\n",
       "      <th>city</th>\n",
       "      <th>total fare</th>\n",
       "      <th>fare count</th>\n",
       "      <th>avg. fare</th>\n",
       "      <th>driver_count</th>\n",
       "      <th>type</th>\n",
       "    </tr>\n",
       "  </thead>\n",
       "  <tbody>\n",
       "    <tr>\n",
       "      <th>0</th>\n",
       "      <td>Adamschester</td>\n",
       "      <td>266.35</td>\n",
       "      <td>9</td>\n",
       "      <td>29.594444</td>\n",
       "      <td>27</td>\n",
       "      <td>Suburban</td>\n",
       "    </tr>\n",
       "    <tr>\n",
       "      <th>1</th>\n",
       "      <td>Alexisfort</td>\n",
       "      <td>903.11</td>\n",
       "      <td>33</td>\n",
       "      <td>27.366970</td>\n",
       "      <td>24</td>\n",
       "      <td>Urban</td>\n",
       "    </tr>\n",
       "    <tr>\n",
       "      <th>2</th>\n",
       "      <td>Amberberg</td>\n",
       "      <td>457.99</td>\n",
       "      <td>16</td>\n",
       "      <td>28.624375</td>\n",
       "      <td>13</td>\n",
       "      <td>Suburban</td>\n",
       "    </tr>\n",
       "    <tr>\n",
       "      <th>3</th>\n",
       "      <td>Anthonyfurt</td>\n",
       "      <td>501.35</td>\n",
       "      <td>17</td>\n",
       "      <td>29.491176</td>\n",
       "      <td>17</td>\n",
       "      <td>Suburban</td>\n",
       "    </tr>\n",
       "    <tr>\n",
       "      <th>4</th>\n",
       "      <td>Boyleberg</td>\n",
       "      <td>161.98</td>\n",
       "      <td>5</td>\n",
       "      <td>32.396000</td>\n",
       "      <td>13</td>\n",
       "      <td>Suburban</td>\n",
       "    </tr>\n",
       "  </tbody>\n",
       "</table>\n",
       "</div>"
      ],
      "text/plain": [
       "           city  total fare  fare count  avg. fare  driver_count      type\n",
       "0  Adamschester      266.35           9  29.594444            27  Suburban\n",
       "1    Alexisfort      903.11          33  27.366970            24     Urban\n",
       "2     Amberberg      457.99          16  28.624375            13  Suburban\n",
       "3   Anthonyfurt      501.35          17  29.491176            17  Suburban\n",
       "4     Boyleberg      161.98           5  32.396000            13  Suburban"
      ]
     },
     "execution_count": 36,
     "metadata": {},
     "output_type": "execute_result"
    }
   ],
   "source": [
    "df = pd.merge(f_df, cfile, on='city', how='outer')\n",
    "df.head()"
   ]
  },
  {
   "cell_type": "code",
   "execution_count": 47,
   "metadata": {},
   "outputs": [
    {
     "data": {
      "text/html": [
       "<div>\n",
       "<style scoped>\n",
       "    .dataframe tbody tr th:only-of-type {\n",
       "        vertical-align: middle;\n",
       "    }\n",
       "\n",
       "    .dataframe tbody tr th {\n",
       "        vertical-align: top;\n",
       "    }\n",
       "\n",
       "    .dataframe thead th {\n",
       "        text-align: right;\n",
       "    }\n",
       "</style>\n",
       "<table border=\"1\" class=\"dataframe\">\n",
       "  <thead>\n",
       "    <tr style=\"text-align: right;\">\n",
       "      <th></th>\n",
       "      <th>city</th>\n",
       "      <th>avg. fare</th>\n",
       "      <th>driver_count</th>\n",
       "      <th>type</th>\n",
       "    </tr>\n",
       "  </thead>\n",
       "  <tbody>\n",
       "    <tr>\n",
       "      <th>0</th>\n",
       "      <td>Adamschester</td>\n",
       "      <td>29.594444</td>\n",
       "      <td>27</td>\n",
       "      <td>Suburban</td>\n",
       "    </tr>\n",
       "    <tr>\n",
       "      <th>1</th>\n",
       "      <td>Alexisfort</td>\n",
       "      <td>27.366970</td>\n",
       "      <td>24</td>\n",
       "      <td>Urban</td>\n",
       "    </tr>\n",
       "    <tr>\n",
       "      <th>2</th>\n",
       "      <td>Amberberg</td>\n",
       "      <td>28.624375</td>\n",
       "      <td>13</td>\n",
       "      <td>Suburban</td>\n",
       "    </tr>\n",
       "    <tr>\n",
       "      <th>3</th>\n",
       "      <td>Anthonyfurt</td>\n",
       "      <td>29.491176</td>\n",
       "      <td>17</td>\n",
       "      <td>Suburban</td>\n",
       "    </tr>\n",
       "    <tr>\n",
       "      <th>4</th>\n",
       "      <td>Boyleberg</td>\n",
       "      <td>32.396000</td>\n",
       "      <td>13</td>\n",
       "      <td>Suburban</td>\n",
       "    </tr>\n",
       "  </tbody>\n",
       "</table>\n",
       "</div>"
      ],
      "text/plain": [
       "           city  avg. fare  driver_count      type\n",
       "0  Adamschester  29.594444            27  Suburban\n",
       "1    Alexisfort  27.366970            24     Urban\n",
       "2     Amberberg  28.624375            13  Suburban\n",
       "3   Anthonyfurt  29.491176            17  Suburban\n",
       "4     Boyleberg  32.396000            13  Suburban"
      ]
     },
     "execution_count": 47,
     "metadata": {},
     "output_type": "execute_result"
    }
   ],
   "source": [
    "table = df[['city','avg. fare', 'driver_count', 'type']]\n",
    "table.head()"
   ]
  },
  {
   "cell_type": "code",
   "execution_count": 54,
   "metadata": {},
   "outputs": [
    {
     "data": {
      "text/html": [
       "<div>\n",
       "<style scoped>\n",
       "    .dataframe tbody tr th:only-of-type {\n",
       "        vertical-align: middle;\n",
       "    }\n",
       "\n",
       "    .dataframe tbody tr th {\n",
       "        vertical-align: top;\n",
       "    }\n",
       "\n",
       "    .dataframe thead th {\n",
       "        text-align: right;\n",
       "    }\n",
       "</style>\n",
       "<table border=\"1\" class=\"dataframe\">\n",
       "  <thead>\n",
       "    <tr style=\"text-align: right;\">\n",
       "      <th></th>\n",
       "      <th>city</th>\n",
       "      <th>avg. fare</th>\n",
       "      <th>driver_count</th>\n",
       "      <th>type</th>\n",
       "    </tr>\n",
       "  </thead>\n",
       "  <tbody>\n",
       "    <tr>\n",
       "      <th>96</th>\n",
       "      <td>Robertsonhaven</td>\n",
       "      <td>36.210000</td>\n",
       "      <td>1</td>\n",
       "      <td>Suburban</td>\n",
       "    </tr>\n",
       "    <tr>\n",
       "      <th>99</th>\n",
       "      <td>Sheltonhaven</td>\n",
       "      <td>22.670000</td>\n",
       "      <td>1</td>\n",
       "      <td>Rural</td>\n",
       "    </tr>\n",
       "    <tr>\n",
       "      <th>32</th>\n",
       "      <td>Joshuaview</td>\n",
       "      <td>37.829091</td>\n",
       "      <td>1</td>\n",
       "      <td>Rural</td>\n",
       "    </tr>\n",
       "    <tr>\n",
       "      <th>34</th>\n",
       "      <td>Kaylaton</td>\n",
       "      <td>27.785556</td>\n",
       "      <td>1</td>\n",
       "      <td>Suburban</td>\n",
       "    </tr>\n",
       "    <tr>\n",
       "      <th>90</th>\n",
       "      <td>Port Kenneth</td>\n",
       "      <td>28.858571</td>\n",
       "      <td>1</td>\n",
       "      <td>Rural</td>\n",
       "    </tr>\n",
       "  </tbody>\n",
       "</table>\n",
       "</div>"
      ],
      "text/plain": [
       "              city  avg. fare  driver_count      type\n",
       "96  Robertsonhaven  36.210000             1  Suburban\n",
       "99    Sheltonhaven  22.670000             1     Rural\n",
       "32      Joshuaview  37.829091             1     Rural\n",
       "34        Kaylaton  27.785556             1  Suburban\n",
       "90    Port Kenneth  28.858571             1     Rural"
      ]
     },
     "execution_count": 54,
     "metadata": {},
     "output_type": "execute_result"
    }
   ],
   "source": [
    "table = table.sort_values('driver_count', ascending=True)\n",
    "table.head()"
   ]
  },
  {
   "cell_type": "code",
   "execution_count": 105,
   "metadata": {},
   "outputs": [
    {
     "data": {
      "text/plain": [
       "[<matplotlib.lines.Line2D at 0x20ba0126518>]"
      ]
     },
     "execution_count": 105,
     "metadata": {},
     "output_type": "execute_result"
    },
    {
     "data": {
      "image/png": "[encoded data removed]",
      "text/plain": [
       "<matplotlib.figure.Figure at 0x20ba002ae10>"
      ]
     },
     "metadata": {},
     "output_type": "display_data"
    }
   ],
   "source": [
    "x = table['driver_count']\n",
    "y = table['avg. fare']\n",
    "xu = np.unique(x)\n",
    "p = np.polyfit(x, y, 1)\n",
    "ploy = np.poly1d(p)"
   ]
  },
  {
   "cell_type": "code",
   "execution_count": 125,
   "metadata": {},
   "outputs": [
    {
     "data": {
      "image/png": "[encoded data removed]",
      "text/plain": [
       "<matplotlib.figure.Figure at 0x20ba14e7908>"
      ]
     },
     "metadata": {},
     "output_type": "display_data"
    }
   ],
   "source": [
    "rural_only = table.loc[table['type']=='Rural']\n",
    "suburban_only = table.loc[table['type']=='Suburban']\n",
    "urban_only = table.loc[table['type']=='Urban']\n",
    "\n",
    "plt.scatter(rural_only['driver_count'], rural_only['avg. fare'], marker='o', facecolors='red', edgecolors='black', s=(rural_only['driver_count']*7), alpha=0.50)\n",
    "plt.scatter(suburban_only['driver_count'], suburban_only['avg. fare'], marker='o', facecolors='yellow', edgecolors='black', s=(suburban_only['driver_count']*7), alpha=0.50)\n",
    "plt.scatter(urban_only['driver_count'], urban_only['avg. fare'], marker='o', facecolors='blue', edgecolors='black', s=(urban_only['driver_count']*7), alpha=0.50)\n",
    "plt.plot(x, ploy(x), color='green', linestyle='--', alpha=0.75)\n",
    "plt.xlabel('Driver Count per city')\n",
    "plt.ylabel('average fare')\n",
    "plt.suptitle('Average Fare over Driver Count per city')\n",
    "plt.legend(['Regression Line','Rural','Suburban','Urban'])\n",
    "\n",
    "plt.show()"
   ]
  },
  {
   "cell_type": "code",
   "execution_count": null,
   "metadata": {},
   "outputs": [],
   "source": [
    "# % of Total Fares by City Type\n",
    "\n",
    "tg_df = pd.DataFrame(df['total fare'].groupby(df['type']).sum())\n",
    "tg_df = tg_df.reset_index()\n",
    "ex = (0,0,0.1)\n",
    "pie_type = tg_df['total fare'].plot(kind='pie', labels=tg_df['type'], autopct ='%1.1f%%', startangle=90,\n",
    "                                    colors=None, shadow=True, explode=ex, figsize=(9,9))\n",
    "pie_type.setxlabel = tg_df['type']\n",
    "pie_type.setylabel = tg_df['total fare']\n",
    " "
   ]
  },
  {
   "cell_type": "code",
   "execution_count": null,
   "metadata": {},
   "outputs": [],
   "source": [
    "\n",
    "def pie_it (dataframe, x, y):\n",
    "    tdf = pd.DataFrame(dataframe[y].groupby(dataframe[x]).sum())\n",
    "    tdf = tdf.reset_index()\n",
    "    e = (0,0,0.1)\n",
    "    pie = tdf[y].plot(kind='pie', labels=tdf[x], autopct='%1.1f%%', startangle=90, colors=None, shadow=True, explode=e, figsize=(9,9))\n",
    "    pie.setxlabel = tdf[x]\n",
    "    pie.setylabel = tdf[y]\n"
   ]
  },
  {
   "cell_type": "code",
   "execution_count": null,
   "metadata": {},
   "outputs": [],
   "source": [
    "pie_it(df, 'type', 'total fare')\n",
    "    plt.show()"
   ]
  },
  {
   "cell_type": "code",
   "execution_count": null,
   "metadata": {},
   "outputs": [],
   "source": []
  }
 ],
 "metadata": {
  "kernelspec": {
   "display_name": "Python 3",
   "language": "python",
   "name": "python3"
  },
  "language_info": {
   "codemirror_mode": {
    "name": "ipython",
    "version": 3
   },
   "file_extension": ".py",
   "mimetype": "text/x-python",
   "name": "python",
   "nbconvert_exporter": "python",
   "pygments_lexer": "ipython3",
   "version": "3.6.4"
  }
 },
 "nbformat": 4,
 "nbformat_minor": 2
}
